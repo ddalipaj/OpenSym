{
 "cells": [
  {
   "cell_type": "markdown",
   "metadata": {},
   "source": [
    "# Identifying bugs from launchpad\n",
    "\n",
    "From the way Launchpad works the flow for a ticket opening in launchpad is:\n",
    "1. a ticket, stating a possible bug, is opened in launchpad and its status is New,\n",
    "2. if the problem stated in the ticket is reproduced than the bug is confirmed as genuine and the ticket status passes from New to Confirmed,\n",
    "3. only when a bug is confirmed, the status then changes from Confirmed to In Progress in the same time that an issue that will try to solve the bug is opened in gerrit.\n",
    "\n",
    "Tracing this flow, which data's can be extracted from the launchpad database, we can automatically identify the bugs..."
   ]
  },
  {
   "cell_type": "code",
   "execution_count": 1,
   "metadata": {
    "collapsed": true
   },
   "outputs": [],
   "source": [
    "# importing needed libraries and establishing a connection to the database\n",
    "import MySQLdb\n",
    "import pandas\n",
    "\n",
    "def connect():\n",
    "   user = \"root\"\n",
    "   password = \"\"\n",
    "   host = \"localhost\"\n",
    "   db = \"report_time\"\n",
    "   port=3306\n",
    "   use_unicode=True\n",
    "\n",
    "   try:\n",
    "      db = MySQLdb.connect(user = user, passwd = password, db = db, port = port, use_unicode = use_unicode)\n",
    "      return db, db.cursor()\n",
    "   except:\n",
    "      logging.error(\"Database connection error!\")\n",
    "      raise\n",
    "        \n",
    "def execute_query(connector, query):\n",
    "   results = int (connector.execute(query))\n",
    "   cont = 0\n",
    "   if results > 0:\n",
    "      result1 = connector.fetchall()\n",
    "      return result1\n",
    "   else:\n",
    "      return []\n",
    "    \n",
    "db, cursor = connect()"
   ]
  },
  {
   "cell_type": "code",
   "execution_count": 3,
   "metadata": {
    "collapsed": false
   },
   "outputs": [
    {
     "data": {
      "text/plain": [
       "242L"
      ]
     },
     "execution_count": 3,
     "metadata": {},
     "output_type": "execute_result"
    }
   ],
   "source": [
    "# Let's extract number of projects affected by these tickets\n",
    "cursor.execute(\"\"\" select distinct tracker_id\n",
    "from tickets_2016.issues \"\"\")"
   ]
  },
  {
   "cell_type": "code",
   "execution_count": 4,
   "metadata": {
    "collapsed": false
   },
   "outputs": [
    {
     "data": {
      "text/plain": [
       "331L"
      ]
     },
     "execution_count": 4,
     "metadata": {},
     "output_type": "execute_result"
    }
   ],
   "source": [
    "# Let's extract the total number of projects in Open Stack\n",
    "cursor.execute(\"\"\" select distinct id\n",
    "from tickets_2016.trackers \"\"\")"
   ]
  },
  {
   "cell_type": "markdown",
   "metadata": {},
   "source": [
    "## Result:\n",
    "242 projects out of 331 in Open Stack are active. \n",
    "However, for the scope of this study, we will focus on the nine key components that are a part of \n",
    "the \"core\" of OpenStack, are distributed as a part of any OpenStack system, and officially maintained by the OpenStack community: Nova, Swift, Cinder, Neutron, Horizon, Keystone, Glance, Ceilometer, and Heat.   "
   ]
  },
  {
   "cell_type": "markdown",
   "metadata": {},
   "source": [
    "# Extraction of the bugs in Open Stack"
   ]
  },
  {
   "cell_type": "code",
   "execution_count": 5,
   "metadata": {
    "collapsed": false
   },
   "outputs": [
    {
     "data": {
      "text/plain": [
       "99134L"
      ]
     },
     "execution_count": 5,
     "metadata": {},
     "output_type": "execute_result"
    }
   ],
   "source": [
    "# Let's first see the number of the total tickets in Launchpad\n",
    "cursor.execute(\"\"\" select id, issue\n",
    "from tickets_2016.issues \"\"\")"
   ]
  },
  {
   "cell_type": "code",
   "execution_count": 6,
   "metadata": {
    "collapsed": false
   },
   "outputs": [
    {
     "data": {
      "text/plain": [
       "92910L"
      ]
     },
     "execution_count": 6,
     "metadata": {},
     "output_type": "execute_result"
    }
   ],
   "source": [
    "# Now let's see how many of them are distinct tickets\n",
    "cursor.execute(\"\"\" select distinct issue\n",
    "from tickets_2016.issues \"\"\")"
   ]
  },
  {
   "cell_type": "code",
   "execution_count": 7,
   "metadata": {
    "collapsed": false
   },
   "outputs": [
    {
     "name": "stderr",
     "output_type": "stream",
     "text": [
      "/home/seneca/V-ENV/ipython-S/lib/python2.7/site-packages/ipykernel/__main__.py:21: Warning: Incorrect datetime value: '' for column 'date_confirmed' at row 1\n",
      "/home/seneca/V-ENV/ipython-S/lib/python2.7/site-packages/ipykernel/__main__.py:21: Warning: Incorrect datetime value: '' for column 'date_in_progress' at row 1\n"
     ]
    },
    {
     "data": {
      "text/plain": [
       "64895L"
      ]
     },
     "execution_count": 7,
     "metadata": {},
     "output_type": "execute_result"
    }
   ],
   "source": [
    "# Extracting the tickets from launchpad that do follow the flow: New -> Confirmed -> In progress. \n",
    "# Will store these datas in a table for facilitating later use. \n",
    "# Note: this datas contain duplicated issue\n",
    "cursor.execute(\"\"\" create table confirmedLP_bugs as\n",
    "select ie.id,\n",
    "       ie.status, \n",
    "       ie.issue_id,\n",
    "       i.issue,\n",
    "       ie.title, \n",
    "       ie.description, \n",
    "       ie.web_link, \n",
    "       ie.date_created, \n",
    "       ie.date_confirmed, \n",
    "       ie.date_in_progress,\n",
    "       i.tracker_id\n",
    "from tickets_2016.issues_ext_launchpad ie\n",
    "inner join tickets_2016.issues i\n",
    "on ie.issue_id=i.id\n",
    "where ie.date_confirmed != '' \n",
    "and ie.date_in_progress != ''\n",
    "\"\"\")"
   ]
  },
  {
   "cell_type": "code",
   "execution_count": 9,
   "metadata": {
    "collapsed": false
   },
   "outputs": [
    {
     "data": {
      "text/plain": [
       "61894L"
      ]
     },
     "execution_count": 9,
     "metadata": {},
     "output_type": "execute_result"
    }
   ],
   "source": [
    "# let's see how many of these are distinct issues\n",
    "cursor.execute(\"\"\" select distinct issue from confirmedLP_bugs \"\"\")"
   ]
  },
  {
   "cell_type": "markdown",
   "metadata": {},
   "source": [
    "## Results: \n",
    "\n",
    "(when we talk about tickets we are talking about reports)\n",
    "\n",
    "1. 92910 tickets out of 99134 are distinct. This means that 9,4% of the total tickets are duplicated.\n",
    "2. 64895 tickets out of 99134 are bugs. This means that 65.5% of the tickets are bugs.\n",
    "3. Only 34,5% of the tickets are not clasified as bugs, have been abandoned for some reason, or are still New and being analysed."
   ]
  },
  {
   "cell_type": "markdown",
   "metadata": {},
   "source": [
    "## Analysis of the time from the moment the ticket first appears to launchpad to the moment it is confirmed as a bug. "
   ]
  },
  {
   "cell_type": "code",
   "execution_count": 10,
   "metadata": {
    "collapsed": true
   },
   "outputs": [],
   "source": [
    "# time to confirm that a ticket is describing a bug - time to classify a ticket\n",
    "query = \"\"\" select issue,\n",
    "                   date_created,\n",
    "                   date_confirmed,\n",
    "                   timestampdiff(SECOND, date_created, date_confirmed) as time2classify,\n",
    "                   tracker_id\n",
    "            from confirmedLP_bugs \"\"\""
   ]
  },
  {
   "cell_type": "code",
   "execution_count": 11,
   "metadata": {
    "collapsed": true
   },
   "outputs": [],
   "source": [
    "data = execute_query(cursor, query)"
   ]
  },
  {
   "cell_type": "code",
   "execution_count": 12,
   "metadata": {
    "collapsed": true
   },
   "outputs": [],
   "source": [
    "data_list = list(data)"
   ]
  },
  {
   "cell_type": "code",
   "execution_count": 13,
   "metadata": {
    "collapsed": false
   },
   "outputs": [
    {
     "data": {
      "text/plain": [
       "['issue', 'date_created', 'date_confirmed', 'time2classify', 'tracker_id']"
      ]
     },
     "execution_count": 13,
     "metadata": {},
     "output_type": "execute_result"
    }
   ],
   "source": [
    "pandas_ds = pandas.DataFrame(data_list, columns=[\"issue\", \"date_created\", \"date_confirmed\", \"time2classify\", \"tracker_id\"])\n",
    "pandas_ds.columns.values.tolist()"
   ]
  },
  {
   "cell_type": "code",
   "execution_count": 14,
   "metadata": {
    "collapsed": false
   },
   "outputs": [],
   "source": [
    "time2classify = pandas_ds[\"time2classify\"]"
   ]
  },
  {
   "cell_type": "code",
   "execution_count": 15,
   "metadata": {
    "collapsed": false
   },
   "outputs": [
    {
     "name": "stdout",
     "output_type": "stream",
     "text": [
      "Mean Time for classifying a ticket: 313.173732 hours\n",
      "Median Time for classifying a ticket: 1.973611 hours\n",
      "Quantiles: \n",
      "0.25       277.0\n",
      "0.50      7105.0\n",
      "0.75    260286.5\n",
      "Name: time2classify, dtype: float64\n"
     ]
    }
   ],
   "source": [
    "#Some statistics about the time to classify the ticket\n",
    "print \"Mean Time for classifying a ticket: %f hours\" % (time2classify.mean()/3600.0)\n",
    "print \"Median Time for classifying a ticket: %f hours\" % (time2classify.median()/3600.0)\n",
    "print \"Quantiles: \"\n",
    "print time2classify.quantile([0.25, 0.5, 0.75])"
   ]
  },
  {
   "cell_type": "code",
   "execution_count": 18,
   "metadata": {
    "collapsed": false
   },
   "outputs": [
    {
     "name": "stdout",
     "output_type": "stream",
     "text": [
      "Populating the interactive namespace from numpy and matplotlib\n"
     ]
    },
    {
     "data": {
      "text/plain": [
       "<matplotlib.axes._subplots.AxesSubplot at 0x7f07798e2f50>"
      ]
     },
     "execution_count": 18,
     "metadata": {},
     "output_type": "execute_result"
    },
    {
     "data": {
      "image/png": "[encoded data removed]",
      "text/plain": [
       "<matplotlib.figure.Figure at 0x7f077912ddd0>"
      ]
     },
     "metadata": {},
     "output_type": "display_data"
    }
   ],
   "source": [
    "# Lets have a look at the boxplots without logaritmic scale\n",
    "%pylab inline\n",
    "pandas_ds[\"time2classify\"].plot(kind=\"hist\")"
   ]
  },
  {
   "cell_type": "code",
   "execution_count": 19,
   "metadata": {
    "collapsed": false
   },
   "outputs": [
    {
     "data": {
      "text/plain": [
       "19"
      ]
     },
     "execution_count": 19,
     "metadata": {},
     "output_type": "execute_result"
    }
   ],
   "source": [
    "# select min time for classifying a ticket - time in seconds\n",
    "\n",
    "pandas_ds['time2classify'].idxmin()"
   ]
  },
  {
   "cell_type": "code",
   "execution_count": 20,
   "metadata": {
    "collapsed": false
   },
   "outputs": [
    {
     "data": {
      "text/plain": [
       "26525"
      ]
     },
     "execution_count": 20,
     "metadata": {},
     "output_type": "execute_result"
    }
   ],
   "source": [
    "# select max time for classifying a ticket - time in seconds\n",
    "\n",
    "pandas_ds['time2classify'].idxmax()"
   ]
  },
  {
   "cell_type": "markdown",
   "metadata": {},
   "source": [
    "## Results:\n",
    "\n",
    "The minimum time for classifying a ticket is 19 sec (or 0.8 hours) while the maximum is 26615 sec (7,4 days)."
   ]
  },
  {
   "cell_type": "markdown",
   "metadata": {},
   "source": [
    "# Analyse the distribution of bugs per number of tickets divided per OpenStack core projects"
   ]
  },
  {
   "cell_type": "markdown",
   "metadata": {},
   "source": [
    "### 1. Nova"
   ]
  },
  {
   "cell_type": "code",
   "execution_count": 21,
   "metadata": {
    "collapsed": false
   },
   "outputs": [
    {
     "data": {
      "text/plain": [
       "8251L"
      ]
     },
     "execution_count": 21,
     "metadata": {},
     "output_type": "execute_result"
    }
   ],
   "source": [
    "# the bugs found in Nova\n",
    "cursor.execute(\"\"\" select * from confirmedLP_bugs \n",
    "where tracker_id=47 or \n",
    "tracker_id=136 or\n",
    "tracker_id=137 or \n",
    "tracker_id=169 or \n",
    "tracker_id=200 or\n",
    "tracker_id=227 or \n",
    "tracker_id=234 or\n",
    "tracker_id=258 \"\"\")"
   ]
  },
  {
   "cell_type": "code",
   "execution_count": 22,
   "metadata": {
    "collapsed": false
   },
   "outputs": [
    {
     "data": {
      "text/plain": [
       "13554L"
      ]
     },
     "execution_count": 22,
     "metadata": {},
     "output_type": "execute_result"
    }
   ],
   "source": [
    "# all the tickets related to Nova\n",
    "cursor.execute(\"\"\" select * from tickets_2016.issues \n",
    "where tracker_id=47 or \n",
    "tracker_id=136 or\n",
    "tracker_id=137 or \n",
    "tracker_id=169 or \n",
    "tracker_id=200 or\n",
    "tracker_id=227 or \n",
    "tracker_id=234 or\n",
    "tracker_id=258 \"\"\")"
   ]
  },
  {
   "cell_type": "markdown",
   "metadata": {},
   "source": [
    "## Results:\n",
    "\n",
    "In Nova - 8251 tickets out of 13554 are bugs. This means 60.9% of tickets are bugs."
   ]
  },
  {
   "cell_type": "markdown",
   "metadata": {},
   "source": [
    "## 2. Swift"
   ]
  },
  {
   "cell_type": "code",
   "execution_count": 23,
   "metadata": {
    "collapsed": false
   },
   "outputs": [
    {
     "data": {
      "text/plain": [
       "1059L"
      ]
     },
     "execution_count": 23,
     "metadata": {},
     "output_type": "execute_result"
    }
   ],
   "source": [
    "# the bugs found in Swift\n",
    "cursor.execute(\"\"\" select * from confirmedLP_bugs\n",
    "where tracker_id=50 or \n",
    "tracker_id=173 or\n",
    "tracker_id=203 or \n",
    "tracker_id=214 \"\"\")"
   ]
  },
  {
   "cell_type": "code",
   "execution_count": 25,
   "metadata": {
    "collapsed": false
   },
   "outputs": [
    {
     "data": {
      "text/plain": [
       "1809L"
      ]
     },
     "execution_count": 25,
     "metadata": {},
     "output_type": "execute_result"
    }
   ],
   "source": [
    "# all the tickets related to Swift\n",
    "cursor.execute(\"\"\" select * from tickets_2016.issues \n",
    "where tracker_id=50 or \n",
    "tracker_id=173 or\n",
    "tracker_id=203 or \n",
    "tracker_id=214 \"\"\")"
   ]
  },
  {
   "cell_type": "markdown",
   "metadata": {},
   "source": [
    "## Results:\n",
    "In Swift - 1059 tickets out of 1809 are bugs. This means 58.5% of tickets are bugs."
   ]
  },
  {
   "cell_type": "markdown",
   "metadata": {},
   "source": [
    "## 3. Cinder"
   ]
  },
  {
   "cell_type": "code",
   "execution_count": 26,
   "metadata": {
    "collapsed": false
   },
   "outputs": [
    {
     "data": {
      "text/plain": [
       "3035L"
      ]
     },
     "execution_count": 26,
     "metadata": {},
     "output_type": "execute_result"
    }
   ],
   "source": [
    "# the bugs found in Cinder\n",
    "cursor.execute(\"\"\" select * from confirmedLP_bugs\n",
    "where tracker_id=7 or \n",
    "tracker_id=156 or\n",
    "tracker_id=182 or \n",
    "tracker_id=274 or\n",
    "tracker_id=311 \"\"\")"
   ]
  },
  {
   "cell_type": "code",
   "execution_count": 27,
   "metadata": {
    "collapsed": false
   },
   "outputs": [
    {
     "data": {
      "text/plain": [
       "4582L"
      ]
     },
     "execution_count": 27,
     "metadata": {},
     "output_type": "execute_result"
    }
   ],
   "source": [
    "# all the tickets related to Cinder\n",
    "cursor.execute(\"\"\" select * from tickets_2016.issues\n",
    "where tracker_id=7 or \n",
    "tracker_id=156 or\n",
    "tracker_id=182 or \n",
    "tracker_id=274 or\n",
    "tracker_id=311 \"\"\")"
   ]
  },
  {
   "cell_type": "markdown",
   "metadata": {},
   "source": [
    "## Results:\n",
    "In Cinder 3035 tickets out of 4582 are bugs. This means 66.2% of tickets are bugs.  "
   ]
  },
  {
   "cell_type": "markdown",
   "metadata": {},
   "source": [
    "## 4. Neutron"
   ]
  },
  {
   "cell_type": "code",
   "execution_count": 28,
   "metadata": {
    "collapsed": false
   },
   "outputs": [
    {
     "data": {
      "text/plain": [
       "5504L"
      ]
     },
     "execution_count": 28,
     "metadata": {},
     "output_type": "execute_result"
    }
   ],
   "source": [
    "# the bugs found in Neutron\n",
    "cursor.execute(\"\"\" select * from confirmedLP_bugs\n",
    "where tracker_id=135 or \n",
    "tracker_id=168 or\n",
    "tracker_id=199 or \n",
    "tracker_id=243 or \n",
    "tracker_id=322 \"\"\")"
   ]
  },
  {
   "cell_type": "code",
   "execution_count": 30,
   "metadata": {
    "collapsed": false
   },
   "outputs": [
    {
     "data": {
      "text/plain": [
       "8134L"
      ]
     },
     "execution_count": 30,
     "metadata": {},
     "output_type": "execute_result"
    }
   ],
   "source": [
    "# all the tickets related to Neutron\n",
    "cursor.execute(\"\"\" select * from tickets_2016.issues\n",
    "where tracker_id=135 or \n",
    "tracker_id=168 or\n",
    "tracker_id=199 or \n",
    "tracker_id=243 or\n",
    "tracker_id=322 \"\"\")"
   ]
  },
  {
   "cell_type": "markdown",
   "metadata": {},
   "source": [
    "## Results:\n",
    "In Neutron 5504 tickets out of 8134 are bugs. This means that 67.7% of the tickets are bugs."
   ]
  },
  {
   "cell_type": "markdown",
   "metadata": {},
   "source": [
    "## 5. Horizon"
   ]
  },
  {
   "cell_type": "code",
   "execution_count": 31,
   "metadata": {
    "collapsed": false
   },
   "outputs": [
    {
     "data": {
      "text/plain": [
       "3743L"
      ]
     },
     "execution_count": 31,
     "metadata": {},
     "output_type": "execute_result"
    }
   ],
   "source": [
    "# the bugs found in Horizon\n",
    "cursor.execute(\"\"\" select * from confirmedLP_bugs\n",
    "where tracker_id=26 or \n",
    "tracker_id=49 or\n",
    "tracker_id=109 or \n",
    "tracker_id=161 \"\"\")"
   ]
  },
  {
   "cell_type": "code",
   "execution_count": 33,
   "metadata": {
    "collapsed": false
   },
   "outputs": [
    {
     "data": {
      "text/plain": [
       "5713L"
      ]
     },
     "execution_count": 33,
     "metadata": {},
     "output_type": "execute_result"
    }
   ],
   "source": [
    "# all the tickets related to Horizon\n",
    "cursor.execute(\"\"\" select * from tickets_2016.issues\n",
    "where tracker_id=26 or \n",
    "tracker_id=49 or\n",
    "tracker_id=109 or \n",
    "tracker_id=161 \"\"\")"
   ]
  },
  {
   "cell_type": "markdown",
   "metadata": {},
   "source": [
    "## Results:\n",
    "In Horizon 3743 tickets out of 5713 are bugs. This means that 65.5% of the tickets are bugs."
   ]
  },
  {
   "cell_type": "markdown",
   "metadata": {},
   "source": [
    "## 6. Keystone"
   ]
  },
  {
   "cell_type": "code",
   "execution_count": 34,
   "metadata": {
    "collapsed": false
   },
   "outputs": [
    {
     "data": {
      "text/plain": [
       "2607L"
      ]
     },
     "execution_count": 34,
     "metadata": {},
     "output_type": "execute_result"
    }
   ],
   "source": [
    "# the bugs found in Keystone\n",
    "cursor.execute(\"\"\" select * from confirmedLP_bugs\n",
    "where tracker_id=31 or \n",
    "tracker_id=110 or\n",
    "tracker_id=111 or \n",
    "tracker_id=112 or \n",
    "tracker_id=163 or\n",
    "tracker_id=189 or\n",
    "tracker_id=190 or\n",
    "tracker_id=191 \"\"\")"
   ]
  },
  {
   "cell_type": "code",
   "execution_count": 35,
   "metadata": {
    "collapsed": false
   },
   "outputs": [
    {
     "data": {
      "text/plain": [
       "4313L"
      ]
     },
     "execution_count": 35,
     "metadata": {},
     "output_type": "execute_result"
    }
   ],
   "source": [
    "# all the tickets related to Keystone\n",
    "cursor.execute(\"\"\" select * from tickets_2016.issues\n",
    "where tracker_id=31 or \n",
    "tracker_id=110 or\n",
    "tracker_id=111 or \n",
    "tracker_id=112 or \n",
    "tracker_id=163 or\n",
    "tracker_id=189 or\n",
    "tracker_id=190 or\n",
    "tracker_id=191 \"\"\")"
   ]
  },
  {
   "cell_type": "markdown",
   "metadata": {},
   "source": [
    "## Results:\n",
    "In Horizon 2607 tickets out of 4313 are bugs. This means that 60.4% of the tickets are bugs."
   ]
  },
  {
   "cell_type": "markdown",
   "metadata": {},
   "source": [
    "## 7. Glance"
   ]
  },
  {
   "cell_type": "code",
   "execution_count": 36,
   "metadata": {
    "collapsed": false
   },
   "outputs": [
    {
     "data": {
      "text/plain": [
       "1932L"
      ]
     },
     "execution_count": 36,
     "metadata": {},
     "output_type": "execute_result"
    }
   ],
   "source": [
    "# the bugs found in Glance\n",
    "cursor.execute(\"\"\" select * from confirmedLP_bugs\n",
    "where tracker_id=20 or \n",
    "tracker_id=102 or\n",
    "tracker_id=158 or \n",
    "tracker_id=186 \"\"\")"
   ]
  },
  {
   "cell_type": "code",
   "execution_count": 37,
   "metadata": {
    "collapsed": false
   },
   "outputs": [
    {
     "data": {
      "text/plain": [
       "3074L"
      ]
     },
     "execution_count": 37,
     "metadata": {},
     "output_type": "execute_result"
    }
   ],
   "source": [
    "# all the tickets related to Glance\n",
    "cursor.execute(\"\"\" select * from tickets_2016.issues\n",
    "where tracker_id=20 or \n",
    "tracker_id=102 or\n",
    "tracker_id=158 or \n",
    "tracker_id=186 \"\"\")"
   ]
  },
  {
   "cell_type": "markdown",
   "metadata": {},
   "source": [
    "## Results:\n",
    "In Glance 1932 tickets out of 3074 are bugs. This means that 62.8% of the tickets are bugs."
   ]
  },
  {
   "cell_type": "markdown",
   "metadata": {},
   "source": [
    "## 8. Ceilometer"
   ]
  },
  {
   "cell_type": "code",
   "execution_count": 38,
   "metadata": {
    "collapsed": false
   },
   "outputs": [
    {
     "data": {
      "text/plain": [
       "1352L"
      ]
     },
     "execution_count": 38,
     "metadata": {},
     "output_type": "execute_result"
    }
   ],
   "source": [
    "# the bugs found in Ceilometer\n",
    "cursor.execute(\"\"\" select * from confirmedLP_bugs\n",
    "where tracker_id=6 or \n",
    "tracker_id=80 or\n",
    "tracker_id=155 or \n",
    "tracker_id=181 or\n",
    "tracker_id=236 or\n",
    "tracker_id=257 or\n",
    "tracker_id=272 \"\"\")"
   ]
  },
  {
   "cell_type": "code",
   "execution_count": 39,
   "metadata": {
    "collapsed": false
   },
   "outputs": [
    {
     "data": {
      "text/plain": [
       "1977L"
      ]
     },
     "execution_count": 39,
     "metadata": {},
     "output_type": "execute_result"
    }
   ],
   "source": [
    "# all the tickets related to Ceilometer\n",
    "cursor.execute(\"\"\" select * from tickets_2016.issues\n",
    "where tracker_id=6 or \n",
    "tracker_id=80 or\n",
    "tracker_id=155 or \n",
    "tracker_id=181 or\n",
    "tracker_id=236 or\n",
    "tracker_id=257 or\n",
    "tracker_id=272 \"\"\")"
   ]
  },
  {
   "cell_type": "markdown",
   "metadata": {},
   "source": [
    "## Results:\n",
    "In Ceilometer 1352 tickets out of 1977 are bugs. This means that 68.4% of tickets are bugs."
   ]
  },
  {
   "cell_type": "markdown",
   "metadata": {},
   "source": [
    "## 9. Heat "
   ]
  },
  {
   "cell_type": "code",
   "execution_count": 40,
   "metadata": {
    "collapsed": false
   },
   "outputs": [
    {
     "data": {
      "text/plain": [
       "2416L"
      ]
     },
     "execution_count": 40,
     "metadata": {},
     "output_type": "execute_result"
    }
   ],
   "source": [
    "# the bugs found in Heat\n",
    "cursor.execute(\"\"\" select * from confirmedLP_bugs\n",
    "where tracker_id=24 or \n",
    "tracker_id=25 or\n",
    "tracker_id=106 or \n",
    "tracker_id=107 or \n",
    "tracker_id=108 or\n",
    "tracker_id=160 or\n",
    "tracker_id=187 \"\"\")"
   ]
  },
  {
   "cell_type": "code",
   "execution_count": 41,
   "metadata": {
    "collapsed": false
   },
   "outputs": [
    {
     "data": {
      "text/plain": [
       "3423L"
      ]
     },
     "execution_count": 41,
     "metadata": {},
     "output_type": "execute_result"
    }
   ],
   "source": [
    "# all the tickets related to Heat\n",
    "cursor.execute(\"\"\" select * from tickets_2016.issues\n",
    "where tracker_id=24 or \n",
    "tracker_id=25 or\n",
    "tracker_id=106 or \n",
    "tracker_id=107 or \n",
    "tracker_id=108 or\n",
    "tracker_id=160 or\n",
    "tracker_id=187 \"\"\")"
   ]
  },
  {
   "cell_type": "markdown",
   "metadata": {},
   "source": [
    "## Results:\n",
    "In Heat 2416 tickets out of 3423 are bugs. This means 70.6 % of tickets are bugs."
   ]
  },
  {
   "cell_type": "code",
   "execution_count": null,
   "metadata": {
    "collapsed": true
   },
   "outputs": [],
   "source": []
  }
 ],
 "metadata": {
  "kernelspec": {
   "display_name": "Python 2",
   "language": "python",
   "name": "python2"
  },
  "language_info": {
   "codemirror_mode": {
    "name": "ipython",
    "version": 2
   },
   "file_extension": ".py",
   "mimetype": "text/x-python",
   "name": "python",
   "nbconvert_exporter": "python",
   "pygments_lexer": "ipython2",
   "version": "2.7.10"
  }
 },
 "nbformat": 4,
 "nbformat_minor": 0
}
