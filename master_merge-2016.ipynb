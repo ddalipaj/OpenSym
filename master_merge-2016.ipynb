{
 "cells": [
  {
   "cell_type": "markdown",
   "metadata": {
    "collapsed": true
   },
   "source": [
    "# Connecting tickets from launchpad with their corresponding issue in gerrit and measure time to close the ticket - Now including 2016 history."
   ]
  },
  {
   "cell_type": "code",
   "execution_count": 2,
   "metadata": {
    "collapsed": true
   },
   "outputs": [],
   "source": [
    "# importing needed libraries and establishing a connection to the database\n",
    "import MySQLdb\n",
    "import pandas\n",
    "\n",
    "def connect():\n",
    "   user = \"root\"\n",
    "   password = \"\"\n",
    "   host = \"localhost\"\n",
    "   db = \"report_time\"\n",
    "   port=3306\n",
    "   use_unicode=True\n",
    "\n",
    "   try:\n",
    "      db = MySQLdb.connect(user = user, passwd = password, db = db, port = port, use_unicode = use_unicode)\n",
    "      return db, db.cursor()\n",
    "   except:\n",
    "      logging.error(\"Database connection error!\")\n",
    "      raise\n",
    "        \n",
    "def execute_query(connector, query):\n",
    "   results = int (connector.execute(query))\n",
    "   cont = 0\n",
    "   if results > 0:\n",
    "      result1 = connector.fetchall()\n",
    "      return result1\n",
    "   else:\n",
    "      return []\n",
    "    \n",
    "db, cursor = connect()"
   ]
  },
  {
   "cell_type": "markdown",
   "metadata": {},
   "source": [
    "### Collection of data from Launchpad\n",
    "\n",
    "1. We need the identification of the issue in gerrit that is reviewing the ticket, and we extract it from the field text in comment table. Given that we are interested in the time needed for closing a ticket, we extract  \n",
    "\n",
    "Next necessary fields that can be extracted from the same table are:\n",
    "2. the ticket id in Launchpad,\n",
    "3. the comment relative to the fix committed.\n",
    " \n",
    "We can identify the comment relative to a commit because it contains these datas in the following format:\n",
    "#### [1] example:\n",
    "    Reviewed:  https://review.openstack.org/100018\n",
    "    Committed: https://git.openstack.org/cgit/openstack/nova/commit/?id=be58dd8432a8d12484f5553d79a02e720e2c0435\n",
    "    Submitter: Jenkins\n",
    "    Branch:    master ...\n",
    "\n",
    "The first problem that arises in the comments is that some of them for some ticket (see example https://bugs.launchpad.net/nova/+bug/1458945) are a summary of some commit history. Therefore, for these cases, we find a match with the datas in [1] within the tet contained in the body of the comment, while the commit itself is not a merge in the master branch of the project that orginated the ticket, consequently not the correct result.\n",
    "\n",
    "However the format requires that the datas defining the type of comment are stated at the very begining of the comment and analysing the tickets in launxhpad we have seen that they are found in the first 6 rows of the comment.\n",
    "\n",
    "Thus the first step is data cleaning of the comments, so that we extract just the first 6 lines from every one of them. Doing this assures us in identifying the right commit. "
   ]
  },
  {
   "cell_type": "code",
   "execution_count": 2,
   "metadata": {
    "collapsed": false
   },
   "outputs": [
    {
     "data": {
      "text/plain": [
       "463683L"
      ]
     },
     "execution_count": 2,
     "metadata": {},
     "output_type": "execute_result"
    }
   ],
   "source": [
    "# use the function substring_index() to extract the first 9 rows from every comment of all the tickets in launchpad\n",
    "cursor.execute( \"\"\" create table comments_H1 as \n",
    "select id, \n",
    "       issue_id, \n",
    "       comment_id, \n",
    "       substring_index(text, '\\n', 6) as text, \n",
    "       submitted_by, \n",
    "       submitted_on\n",
    "from tickets_2016.comments \"\"\") "
   ]
  },
  {
   "cell_type": "markdown",
   "metadata": {},
   "source": [
    "If we notice [1], we see that we can identify the gerrit id of the issue fixing the bug in the first row:\n",
    "##### Reviewed:  https://review.openstack.org/100018\n",
    "\n",
    "Thus the next step is identifying the comments related to a fix merge, identify the gerrit link and extract the id."
   ]
  },
  {
   "cell_type": "code",
   "execution_count": 3,
   "metadata": {
    "collapsed": false
   },
   "outputs": [
    {
     "data": {
      "text/plain": [
       "83318L"
      ]
     },
     "execution_count": 3,
     "metadata": {},
     "output_type": "execute_result"
    }
   ],
   "source": [
    "# notice that we are interested only into tickets that have been merged into master branch\n",
    "cursor.execute (\"\"\" create table ticket_issue as\n",
    "select id, \n",
    "       issue_id,\n",
    "       text as launchpad_comment,\n",
    "       submitted_on as date_fix_committed,\n",
    "       substring(text, locate('https://review.openstack.org/', text)+29, \n",
    "       locate('Committed', text) - locate('https://review.openstack.org/', text) - 30) \n",
    "       as gerrit_id\n",
    "from comments_H1\n",
    "where \n",
    "instr(text, 'Reviewed') and \n",
    "instr(text, 'Committed') and \n",
    "instr(text, 'Submitter') and \n",
    "instr(text, 'Branch') and \n",
    "instr(text, 'master') \"\"\")"
   ]
  },
  {
   "cell_type": "markdown",
   "metadata": {},
   "source": [
    "We collected 83318 different master merges when 56893 is the number of tickets which status is 'Fix Merged' in Launchpad out of 99134 total tickets. This because a ticket has different merges in master branches of different projects."
   ]
  },
  {
   "cell_type": "code",
   "execution_count": 4,
   "metadata": {
    "collapsed": false
   },
   "outputs": [
    {
     "data": {
      "text/plain": [
       "50721L"
      ]
     },
     "execution_count": 4,
     "metadata": {},
     "output_type": "execute_result"
    }
   ],
   "source": [
    "# this query extracts the number of distinct issues that have been merged in master branches and were\n",
    "# collected from the query above in the table ticket_issue \n",
    "cursor.execute(\" select distinct issue_id from ticket_issue \")"
   ]
  },
  {
   "cell_type": "markdown",
   "metadata": {},
   "source": [
    "Analysing the tickets, we have noticed that there are 2 different ways of writing the link to the issue in Gerrit:\n",
    "1. https://review.openstack.org/100018\n",
    "2. https://review.openstack.org/#/c/38191\n",
    "\n",
    "Let's check the pattern of the gerrit_id. We know that the gerrit_id is a numeric string. Let's run a query to see if some extracted gerrit_id contains other than 0-9. From the cases stated above we will check for the '#', '/' and caracters 'a-z' given that in the second link we find the pattern '.../#/c/...':\n",
    "\n",
    "Thus we run the query:"
   ]
  },
  {
   "cell_type": "code",
   "execution_count": 5,
   "metadata": {
    "collapsed": false
   },
   "outputs": [
    {
     "data": {
      "text/plain": [
       "51L"
      ]
     },
     "execution_count": 5,
     "metadata": {},
     "output_type": "execute_result"
    }
   ],
   "source": [
    "cursor.execute(\"\"\" select gerrit_id \n",
    "from ticket_issue\n",
    "where gerrit_id regexp '[a-z]'\n",
    "or gerrit_id regexp '#'\n",
    "or gerrit_id regexp '/' \"\"\")"
   ]
  },
  {
   "cell_type": "code",
   "execution_count": null,
   "metadata": {
    "collapsed": false
   },
   "outputs": [],
   "source": [
    "cursor.fetchall()"
   ]
  },
  {
   "cell_type": "markdown",
   "metadata": {},
   "source": [
    "We need some cleaning on gerrit_id.\n",
    "From the results above, we find that: \n",
    "1. there are tickets that have been reveiwed in a platform other than gerrit openstack, precisely we found this 3 cases:\n",
    "        1.1 review.fuel-infra.org - all the relative entries can be extracted running the query \"select * from ticket_issue where char_length(gerrit_id)>16\";\n",
    "        1.2 review-dev.openstack.org - all the relative entries can be extracted running the query \"select * from ticket_issue where char_length(gerrit_id)>17\";\n",
    "        1.3 review.opencontrail.org - all the relative entries can be extracted running the query \"select * from ticket_issue where char_length(gerrit_id)>18\";\n",
    "    we are not analysing these code review platform so the respectice entries will be deleted. See as an example: https://bugs.launchpad.net/ceilometer/+bug/1018311\n",
    "2. there are id's that contain a \"/\" as their last caracter that should be eliminated.\n",
    "3. there are id's that contain \"#/c/\" at their beggining and \"/\" at their end. Both the patterns should be eliminated.\n",
    "\n",
    "Consequently we apply these heuristics and clean the datas by using an update query for 2, a delete query for 1 and an update replace query for 3, respectively:\n",
    "#### 2. \n",
    "    update report_time.ticket_issue\n",
    "    set gerrit_id = '38368'\n",
    "    where id is not null and gerrit_id='#/c/38368/';\n",
    "    \n",
    "    update report_time.ticket_issue\n",
    "    set gerrit_id = '38191'\n",
    "    where id is not null and gerrit_id='#/c/38191/';\n",
    "#### 1.\n",
    "    delete FROM report_time.ticket_issue\n",
    "    WHERE gerrit_id regexp '[a-z]';\n",
    "#### 3. \n",
    "    update report_time.ticket_issue \n",
    "    set gerrit_id = REPLACE(gerrit_id, '/', '') \n",
    "    where gerrit_id regexp '/';\n",
    "    \n",
    "Let's re-execute the query to see if there is any other gerrit id that contains other but numbers from 0-9:"
   ]
  },
  {
   "cell_type": "code",
   "execution_count": 9,
   "metadata": {
    "collapsed": false
   },
   "outputs": [
    {
     "data": {
      "text/plain": [
       "0L"
      ]
     },
     "execution_count": 9,
     "metadata": {},
     "output_type": "execute_result"
    }
   ],
   "source": [
    "cursor.execute(\"\"\" delete FROM report_time.ticket_issue\n",
    "WHERE gerrit_id regexp '[a-z]' \"\"\")"
   ]
  },
  {
   "cell_type": "code",
   "execution_count": 10,
   "metadata": {
    "collapsed": false
   },
   "outputs": [
    {
     "data": {
      "text/plain": [
       "0L"
      ]
     },
     "execution_count": 10,
     "metadata": {},
     "output_type": "execute_result"
    }
   ],
   "source": [
    "cursor.execute(\"\"\" update report_time.ticket_issue \n",
    "set gerrit_id = REPLACE(gerrit_id, '/', '') \n",
    "where gerrit_id regexp '/' \"\"\")"
   ]
  },
  {
   "cell_type": "code",
   "execution_count": 11,
   "metadata": {
    "collapsed": false
   },
   "outputs": [
    {
     "data": {
      "text/plain": [
       "0L"
      ]
     },
     "execution_count": 11,
     "metadata": {},
     "output_type": "execute_result"
    }
   ],
   "source": [
    "cursor.execute(\"\"\" update report_time.ticket_issue\n",
    "set gerrit_id = '38368'\n",
    "where id is not null and gerrit_id='#/c/38368/' \"\"\")"
   ]
  },
  {
   "cell_type": "code",
   "execution_count": 12,
   "metadata": {
    "collapsed": false
   },
   "outputs": [
    {
     "data": {
      "text/plain": [
       "0L"
      ]
     },
     "execution_count": 12,
     "metadata": {},
     "output_type": "execute_result"
    }
   ],
   "source": [
    "cursor.execute(\"\"\" update report_time.ticket_issue\n",
    "set gerrit_id = '38191'\n",
    "where id is not null and gerrit_id='#/c/38191/'; \"\"\")"
   ]
  },
  {
   "cell_type": "code",
   "execution_count": 3,
   "metadata": {
    "collapsed": false
   },
   "outputs": [
    {
     "data": {
      "text/plain": [
       "83280L"
      ]
     },
     "execution_count": 3,
     "metadata": {},
     "output_type": "execute_result"
    }
   ],
   "source": [
    "# after the execution of the above heuristics let's have a look at the total number of merges for all tickets collected\n",
    "cursor.execute(\" select * from ticket_issue \")"
   ]
  },
  {
   "cell_type": "markdown",
   "metadata": {},
   "source": [
    "The total number of the tickets for which a fix has been merged is 56893. Given that some tickets are merged in the master branches of more than one project, because the same issue after emerging is found affecting other projects too, the total of 83280 is perfectly justified and reasonable. "
   ]
  },
  {
   "cell_type": "code",
   "execution_count": 4,
   "metadata": {
    "collapsed": false
   },
   "outputs": [
    {
     "data": {
      "text/plain": [
       "50695L"
      ]
     },
     "execution_count": 4,
     "metadata": {},
     "output_type": "execute_result"
    }
   ],
   "source": [
    "# now let's see how many of the tickets are distinct\n",
    "cursor.execute(\" select distinct issue_id from ticket_issue \")"
   ]
  },
  {
   "cell_type": "markdown",
   "metadata": {},
   "source": [
    "In 83280 there are 50659 distinct tickets. Let's have a look at the range of how many merges a tickets has."
   ]
  },
  {
   "cell_type": "code",
   "execution_count": 5,
   "metadata": {
    "collapsed": false
   },
   "outputs": [
    {
     "data": {
      "text/plain": [
       "7594L"
      ]
     },
     "execution_count": 5,
     "metadata": {},
     "output_type": "execute_result"
    }
   ],
   "source": [
    "# number of tickets with more than one merge\n",
    "cursor.execute(\"\"\" select *, count(issue_id) from ticket_issue \n",
    "group by issue_id\n",
    "having count(issue_id)>1\n",
    "order by count(issue_id) \"\"\")"
   ]
  },
  {
   "cell_type": "markdown",
   "metadata": {},
   "source": [
    "Out of 50659 tickets, 7594 (approximately 15%) of them addresses issues that arises in more than one project. Precisely, this number, alias the number of merges ranges from 2-21, 23-27, 29-30, 40, 51, 71, with a maximum of 85 merges. Example of one of the tickets with 85 merges: https://bugs.launchpad.net/nova/+bug/1348818\n",
    "\n",
    "NOTE: an improvement from Launchpad-Gerrit.ipynb"
   ]
  },
  {
   "cell_type": "markdown",
   "metadata": {},
   "source": [
    "##### In this analysis we will take into consideration only the fixes that have merged in master branches of the project/s under which they have emerged.\n",
    "Let's proceed extracting all the necessary information. What we additionally need, for every ticket fix collected in the table ticket_issue, is: a. ticket id; b. ticket opening date; c. the origin project (under which the issue immerged). "
   ]
  },
  {
   "cell_type": "code",
   "execution_count": 9,
   "metadata": {
    "collapsed": false
   },
   "outputs": [
    {
     "data": {
      "text/plain": [
       "83280L"
      ]
     },
     "execution_count": 9,
     "metadata": {},
     "output_type": "execute_result"
    }
   ],
   "source": [
    "# create a table of tickets collected above with the complete information needed from launchpad:\n",
    "# a. all the attributes from table tickets_issue; b. ticket id; c. ticket opening date; \n",
    "# d. the origin project.  \n",
    "cursor.execute(\"\"\" create table ticket_issue_complete\n",
    "as\n",
    "( select t.*, \n",
    "         c.issue as launchpad_issue,\n",
    "         c.date_created as launchpad_opening_date,\n",
    "         c.date_confirmed as launchpad_confirming_bug,\n",
    "         c.date_in_progress as lanchpad_date_in_progress,\n",
    "         c.tracker_id as launchpad_project\n",
    "  from ticket_issue t\n",
    "  left join confirmedLP_bugs c\n",
    "  on t.issue_id=c.issue_id) \"\"\")"
   ]
  },
  {
   "cell_type": "markdown",
   "metadata": {},
   "source": [
    "In this query, the opening date is extracted from the attribute 'submitted_on' of table issues, from the database tickets.  \n",
    "\n",
    "From the table launchpad_CR above created, we noticed (running query [2]) that there are 5249 rows (419 tickets) for which the opening date is a later date than the fix committed date. Example the opening date for the ticket https://bugs.launchpad.net/nova/+bug/1253497 is '2013-11-21' while in table issues it is '2014-02-25'. The query [2] as follows:\n",
    "#### [2]\n",
    "#### select \n",
    "           ssue_id, \n",
    "           launchpad_issue, \n",
    "           launchpad_opening_date, \n",
    "           date_fix_committed \n",
    "#### from \n",
    "           lp_vs_gerrit_metrics.launchpad_CR\n",
    "#### where \n",
    "           launchpad_opening_date > launchpad_date_fix_committed;\n",
    "           \n",
    "\n",
    "Heuristic for improving:\n",
    "Let's modify the queries so that we extract the opening date from the table comments instead of the table issues. "
   ]
  },
  {
   "cell_type": "code",
   "execution_count": 15,
   "metadata": {
    "collapsed": false
   },
   "outputs": [
    {
     "data": {
      "text/plain": [
       "76238L"
      ]
     },
     "execution_count": 15,
     "metadata": {},
     "output_type": "execute_result"
    }
   ],
   "source": [
    "cursor.execute(\"\"\" create table ticket_issue_complete_H1 as \n",
    "select\n",
    "        t.issue_id as launchpad_issue_id,\n",
    "        b.issue as launchpad_issue,\n",
    "        t.gerrit_id,\n",
    "        o.launchpad_opening_date,\n",
    "        b.date_confirmed as launchpad_confirming_bug,\n",
    "        b.date_in_progress as lanchpad_date_in_progress,\n",
    "        t.date_fix_committed as launchpad_date_fix_committed,\n",
    "        substring(tr.url, 28) as launchpad_project\n",
    "from ticket_issue t, \n",
    "     confirmedLP_bugs b, \n",
    "     tickets_2016.trackers tr, \n",
    "     ( select c.issue_id, min(c.changed_on) as launchpad_opening_date \n",
    "       from tickets_2016.changes c \n",
    "       group by c.issue_id\n",
    "       order by c.changed_on ) o\n",
    "where ( t.issue_id=b.id\n",
    "        and b.tracker_id = tr.id\n",
    "        and t.issue_id=o.issue_id);\n",
    "\"\"\")"
   ]
  },
  {
   "cell_type": "markdown",
   "metadata": {},
   "source": [
    "Now let's check if the correct opening date is selected."
   ]
  },
  {
   "cell_type": "code",
   "execution_count": 4,
   "metadata": {
    "collapsed": false
   },
   "outputs": [
    {
     "data": {
      "text/plain": [
       "0L"
      ]
     },
     "execution_count": 4,
     "metadata": {},
     "output_type": "execute_result"
    }
   ],
   "source": [
    "cursor.execute(\"\"\" select\n",
    "       launchpad_issue_id, \n",
    "       launchpad_issue, \n",
    "       launchpad_opening_date, \n",
    "       launchpad_date_fix_committed \n",
    "from\n",
    "       ticket_issue_complete_H1\n",
    "where\n",
    "       launchpad_opening_date > launchpad_date_fix_committed \"\"\")"
   ]
  },
  {
   "cell_type": "markdown",
   "metadata": {},
   "source": [
    "Now that the data's from launchpad's side are ready we can proceed with the matching between tickets information and respective code review in gerrit.\n",
    "\n",
    "Notice that the table with the data form gerrit is already created running the query:\n",
    "\n",
    "#### the data's from Gerrit - issues are all distinct\n",
    "#### cursor.execute\n",
    "      (\"\"\" create table gerrit as\n",
    "#### select \n",
    "       i.issue                       as gerrit_issue,  \n",
    "       t0.opening_date               as gerrit_opening_date,  \n",
    "       t1.closing_date               as gerrit_closing_date, \n",
    "       t.url                         as gerrit_project,\n",
    "       i.status                      as current_status \n",
    "#### from \n",
    "     issuesCR i, \n",
    "     trackersCR t, \n",
    "     changes c, \n",
    "     (select i.id as issue_id, \n",
    "             c.changed_on as closing_date \n",
    "      from issuesCR i \n",
    "      left join changes c \n",
    "      on c.issue_id = i.id and \n",
    "         field='status' and \n",
    "         (new_value='ABANDONED' \n",
    "         or new_value='MERGED') ) t1, \n",
    "      (select c.issue_id, \n",
    "              c.changed_on as opening_date \n",
    "      from changes c \n",
    "      where c.field='status' and \n",
    "            c.new_value='UPLOADED' and \n",
    "            c.old_value=1) t0 \n",
    "      where i.tracker_id=t.id and \n",
    "            c.issue_id = i.id and \n",
    "            i.id=t0.issue_id  and \n",
    "            i.id=t1.issue_id \n",
    "#### group by \n",
    "      i.issue \"\"\")"
   ]
  },
  {
   "cell_type": "markdown",
   "metadata": {},
   "source": [
    "## Proceed with the match between tickets and issues\n",
    "The results will be stored into a table to facilitate the later use."
   ]
  },
  {
   "cell_type": "code",
   "execution_count": 6,
   "metadata": {
    "collapsed": false
   },
   "outputs": [
    {
     "data": {
      "text/plain": [
       "61573L"
      ]
     },
     "execution_count": 6,
     "metadata": {},
     "output_type": "execute_result"
    }
   ],
   "source": [
    "cursor.execute(\"\"\" create table lp_cr_aggregation as\n",
    "select t.*,\n",
    "       g.*\n",
    "from ticket_issue_complete_H1 t,\n",
    "     gerrit g\n",
    "where t.gerrit_id=g.gerrit_issue \"\"\")"
   ]
  },
  {
   "cell_type": "markdown",
   "metadata": {},
   "source": [
    "## Notice:\n",
    "the number of the match from the query above 61573 is less than the number of tickets in launchpad (76238). \n",
    "\n",
    "Analysing the missing merges, by picking up arbitrarily tickets, we found that the reason is because some of the gerrit id to wich a ticket is related by a merge is not found in the table tickets (gerrit). Example: \n",
    "\n",
    "one of the fixes of the ticket https://review.openstack.org/#/q/topic:bug/1253497 is merged in the issue https://review.openstack.org/#/c/92547/ \n",
    "\n",
    "but the issue id 92547 is not found in the database tickets."
   ]
  },
  {
   "cell_type": "markdown",
   "metadata": {
    "collapsed": true
   },
   "source": [
    "### Importing datas to pandas"
   ]
  },
  {
   "cell_type": "code",
   "execution_count": 9,
   "metadata": {
    "collapsed": true
   },
   "outputs": [],
   "source": [
    "query = \"\"\" select launchpad_issue,\n",
    "                   gerrit_id,\n",
    "                   launchpad_opening_date,\n",
    "                   gerrit_closing_date,\n",
    "                   timestampdiff(SECOND, launchpad_opening_date, gerrit_closing_date) as time2close,\n",
    "                   current_status,\n",
    "                   gerrit_project as gerrit_tracker\n",
    "                   from lp_cr_aggregation \"\"\""
   ]
  },
  {
   "cell_type": "code",
   "execution_count": 10,
   "metadata": {
    "collapsed": false
   },
   "outputs": [
    {
     "name": "stderr",
     "output_type": "stream",
     "text": [
      "/home/seneca/V-ENV/ipython-S/lib/python2.7/site-packages/ipykernel/__main__.py:21: Warning: Incorrect datetime value: ''\n"
     ]
    }
   ],
   "source": [
    "data = execute_query(cursor, query)"
   ]
  },
  {
   "cell_type": "code",
   "execution_count": 11,
   "metadata": {
    "collapsed": true
   },
   "outputs": [],
   "source": [
    "data_list = list(data)"
   ]
  },
  {
   "cell_type": "code",
   "execution_count": 12,
   "metadata": {
    "collapsed": false
   },
   "outputs": [
    {
     "data": {
      "text/plain": [
       "['launchpad_issue',\n",
       " 'gerrit_id',\n",
       " 'launchpad_opening_date',\n",
       " 'gerrit_closing_date',\n",
       " 'time2close',\n",
       " 'current_status',\n",
       " 'gerrit_tracker']"
      ]
     },
     "execution_count": 12,
     "metadata": {},
     "output_type": "execute_result"
    }
   ],
   "source": [
    "time_to_close = pandas.DataFrame(data_list, columns=[\"launchpad_issue\", \"gerrit_id\", \"launchpad_opening_date\", \"gerrit_closing_date\", \"time2close\", \"current_status\", \"gerrit_tracker\"])\n",
    "time_to_close.columns.values.tolist()"
   ]
  },
  {
   "cell_type": "code",
   "execution_count": 14,
   "metadata": {
    "collapsed": false
   },
   "outputs": [],
   "source": [
    "# time_to_close"
   ]
  },
  {
   "cell_type": "markdown",
   "metadata": {},
   "source": [
    "### Lets display some charts..."
   ]
  },
  {
   "cell_type": "code",
   "execution_count": 16,
   "metadata": {
    "collapsed": false
   },
   "outputs": [
    {
     "name": "stdout",
     "output_type": "stream",
     "text": [
      "Populating the interactive namespace from numpy and matplotlib\n"
     ]
    }
   ],
   "source": [
    "%pylab inline"
   ]
  },
  {
   "cell_type": "code",
   "execution_count": 17,
   "metadata": {
    "collapsed": false
   },
   "outputs": [
    {
     "data": {
      "text/plain": [
       "<matplotlib.axes._subplots.AxesSubplot at 0x7f1013619f10>"
      ]
     },
     "execution_count": 17,
     "metadata": {},
     "output_type": "execute_result"
    },
    {
     "data": {
      "image/png": "[encoded data removed]",
      "text/plain": [
       "<matplotlib.figure.Figure at 0x7f101518c950>"
      ]
     },
     "metadata": {},
     "output_type": "display_data"
    }
   ],
   "source": [
    "# Histogram of time to close a ticket\n",
    "time_to_close[\"time2close\"].plot(kind=\"hist\")"
   ]
  },
  {
   "cell_type": "markdown",
   "metadata": {},
   "source": [
    "We see from the chart that there are some negative time to close values.\n",
    "\n",
    "Because in selecting the issues from gerrit we have included in our conditions the omes that have been abandoned too, the consequence is that in the data frame above we gain some negative values. This happens because some issues open at a certain time, somewhere were, for some reason, were abandoned. A ticket is opened later than the date where the issue was abandoned. The bug stated in the ticket is related to the issue abandoned. So the issue gets restored, and merged, fixing the ticket. \n",
    "\n",
    "For the purpose of our analysis, we have extracted and gathered the data so that we have one entry that matches the ticket with the abandonement (which gives a negative time to close due to the fact that the ticket is opened after the abandonement of the issue) and another entry that matches the ticket with the merge of the issue (which is the correct match for measuring time to close).\n",
    "\n",
    "Given these facts we can delete from the data frame all the rows for which time to close is negative.\n",
    "But first lets migrate the time from seconds to days and add a new column with this data in the dataframe."
   ]
  },
  {
   "cell_type": "code",
   "execution_count": 18,
   "metadata": {
    "collapsed": false
   },
   "outputs": [],
   "source": [
    "# Migrate seconds to days - add another column to the data frame\n",
    "time_to_close[\"time2close_days\"] = (time_to_close[\"time2close\"]/3600)/24"
   ]
  },
  {
   "cell_type": "code",
   "execution_count": 19,
   "metadata": {
    "collapsed": false
   },
   "outputs": [],
   "source": [
    "# Time to close a ticket - eliminating Abandoned phases\n",
    "time_to_close_H1 = time_to_close[time_to_close[\"time2close\"] >= 0];"
   ]
  },
  {
   "cell_type": "code",
   "execution_count": 21,
   "metadata": {
    "collapsed": false
   },
   "outputs": [],
   "source": [
    "# time_to_close_H1"
   ]
  },
  {
   "cell_type": "markdown",
   "metadata": {},
   "source": [
    "### Retry the histogram on the new data frame to verify the elimination of the negative time to close:"
   ]
  },
  {
   "cell_type": "code",
   "execution_count": 22,
   "metadata": {
    "collapsed": false
   },
   "outputs": [
    {
     "data": {
      "text/plain": [
       "<matplotlib.text.Text at 0x7f1013465e50>"
      ]
     },
     "execution_count": 22,
     "metadata": {},
     "output_type": "execute_result"
    },
    {
     "data": {
      "image/png": "[encoded data removed]",
      "text/plain": [
       "<matplotlib.figure.Figure at 0x7f10135e0450>"
      ]
     },
     "metadata": {},
     "output_type": "display_data"
    }
   ],
   "source": [
    "# Histogram of time to close a ticket\n",
    "fig, axs = plt.subplots(1,2, figsize=(15,5))\n",
    "\n",
    "hist_chart= time_to_close_H1[\"time2close_days\"].plot(kind=\"hist\", ax=axs[0])\n",
    "boxplot_chart = time_to_close_H1[\"time2close_days\"].plot(kind=\"box\", ax=axs[1], logy=True)\n",
    "\n",
    "#chart labels\n",
    "hist_chart.set_xlabel(\"Days to close\")\n",
    "hist_chart.set_ylabel(\"Number of Tickets\")\n",
    "hist_chart.set_title(\"Histogram: days to close\")\n",
    "\n",
    "boxplot_chart.set_ylabel(\"Days to close\")\n",
    "boxplot_chart.set_title(\"Log scale: Dist. time2close_days\")"
   ]
  },
  {
   "cell_type": "code",
   "execution_count": 23,
   "metadata": {
    "collapsed": true
   },
   "outputs": [],
   "source": [
    "import matplotlib.pyplot as plt"
   ]
  },
  {
   "cell_type": "markdown",
   "metadata": {},
   "source": [
    "# Measuring Time - Metric 1"
   ]
  },
  {
   "cell_type": "markdown",
   "metadata": {},
   "source": [
    "The next calculates the average time for closing a single ticket. Note than when a ticket has been merged in different projects, all the different issues in gerrit contribute to the evolution of the ticket's life. The scenario is illustrated below:\n",
    "\n",
    "                    |___________________GERRIT________________________| ...\n",
    "           |-------------|--------------|--------|----------- ... ----| ...\n",
    "         ticket         1st            2nd      3rd                  n-th \n",
    "         in lp         merge          merge    merge                 merge\n",
    "           |_____________| +\n",
    "           |____________________________| +                               --> the average of these intervals is what\n",
    "           |_____________________________________| +                          we analyze in the next steps.\n",
    "           |__________________________________________________________|  \n",
    "         "
   ]
  },
  {
   "cell_type": "code",
   "execution_count": 24,
   "metadata": {
    "collapsed": true
   },
   "outputs": [],
   "source": [
    "query1 = \"\"\" select launchpad_issue,\n",
    "                    gerrit_id,\n",
    "                    launchpad_opening_date,\n",
    "                    gerrit_closing_date,\n",
    "                    timestampdiff(SECOND, launchpad_opening_date, gerrit_closing_date) as time2close,\n",
    "                    current_status,\n",
    "                    gerrit_project as gerrit_tracker\n",
    "                    from lp_cr_aggregation\n",
    "                    where gerrit_closing_date > launchpad_opening_date \"\"\""
   ]
  },
  {
   "cell_type": "code",
   "execution_count": 26,
   "metadata": {
    "collapsed": false
   },
   "outputs": [
    {
     "name": "stderr",
     "output_type": "stream",
     "text": [
      "/home/seneca/V-ENV/ipython-S/lib/python2.7/site-packages/ipykernel/__main__.py:21: Warning: Incorrect datetime value: '' for column 'launchpad_opening_date' at row 2356\n",
      "/home/seneca/V-ENV/ipython-S/lib/python2.7/site-packages/ipykernel/__main__.py:21: Warning: Incorrect datetime value: '' for column 'launchpad_opening_date' at row 2468\n",
      "/home/seneca/V-ENV/ipython-S/lib/python2.7/site-packages/ipykernel/__main__.py:21: Warning: Incorrect datetime value: '' for column 'launchpad_opening_date' at row 2645\n",
      "/home/seneca/V-ENV/ipython-S/lib/python2.7/site-packages/ipykernel/__main__.py:21: Warning: Incorrect datetime value: '' for column 'launchpad_opening_date' at row 2663\n",
      "/home/seneca/V-ENV/ipython-S/lib/python2.7/site-packages/ipykernel/__main__.py:21: Warning: Incorrect datetime value: '' for column 'launchpad_opening_date' at row 2674\n",
      "/home/seneca/V-ENV/ipython-S/lib/python2.7/site-packages/ipykernel/__main__.py:21: Warning: Incorrect datetime value: '' for column 'launchpad_opening_date' at row 2679\n",
      "/home/seneca/V-ENV/ipython-S/lib/python2.7/site-packages/ipykernel/__main__.py:21: Warning: Incorrect datetime value: '' for column 'launchpad_opening_date' at row 2681\n",
      "/home/seneca/V-ENV/ipython-S/lib/python2.7/site-packages/ipykernel/__main__.py:21: Warning: Incorrect datetime value: '' for column 'launchpad_opening_date' at row 2693\n",
      "/home/seneca/V-ENV/ipython-S/lib/python2.7/site-packages/ipykernel/__main__.py:21: Warning: Incorrect datetime value: '' for column 'launchpad_opening_date' at row 2694\n",
      "/home/seneca/V-ENV/ipython-S/lib/python2.7/site-packages/ipykernel/__main__.py:21: Warning: Incorrect datetime value: '' for column 'launchpad_opening_date' at row 2698\n",
      "/home/seneca/V-ENV/ipython-S/lib/python2.7/site-packages/ipykernel/__main__.py:21: Warning: Incorrect datetime value: '' for column 'launchpad_opening_date' at row 2699\n",
      "/home/seneca/V-ENV/ipython-S/lib/python2.7/site-packages/ipykernel/__main__.py:21: Warning: Incorrect datetime value: '' for column 'launchpad_opening_date' at row 2700\n",
      "/home/seneca/V-ENV/ipython-S/lib/python2.7/site-packages/ipykernel/__main__.py:21: Warning: Incorrect datetime value: '' for column 'launchpad_opening_date' at row 2721\n",
      "/home/seneca/V-ENV/ipython-S/lib/python2.7/site-packages/ipykernel/__main__.py:21: Warning: Incorrect datetime value: '' for column 'launchpad_opening_date' at row 2722\n",
      "/home/seneca/V-ENV/ipython-S/lib/python2.7/site-packages/ipykernel/__main__.py:21: Warning: Incorrect datetime value: '' for column 'launchpad_opening_date' at row 2723\n",
      "/home/seneca/V-ENV/ipython-S/lib/python2.7/site-packages/ipykernel/__main__.py:21: Warning: Incorrect datetime value: '' for column 'launchpad_opening_date' at row 2724\n",
      "/home/seneca/V-ENV/ipython-S/lib/python2.7/site-packages/ipykernel/__main__.py:21: Warning: Incorrect datetime value: '' for column 'launchpad_opening_date' at row 2737\n",
      "/home/seneca/V-ENV/ipython-S/lib/python2.7/site-packages/ipykernel/__main__.py:21: Warning: Incorrect datetime value: '' for column 'launchpad_opening_date' at row 2738\n",
      "/home/seneca/V-ENV/ipython-S/lib/python2.7/site-packages/ipykernel/__main__.py:21: Warning: Incorrect datetime value: '' for column 'launchpad_opening_date' at row 2739\n",
      "/home/seneca/V-ENV/ipython-S/lib/python2.7/site-packages/ipykernel/__main__.py:21: Warning: Incorrect datetime value: '' for column 'launchpad_opening_date' at row 2740\n",
      "/home/seneca/V-ENV/ipython-S/lib/python2.7/site-packages/ipykernel/__main__.py:21: Warning: Incorrect datetime value: '' for column 'launchpad_opening_date' at row 2741\n",
      "/home/seneca/V-ENV/ipython-S/lib/python2.7/site-packages/ipykernel/__main__.py:21: Warning: Incorrect datetime value: '' for column 'launchpad_opening_date' at row 2744\n",
      "/home/seneca/V-ENV/ipython-S/lib/python2.7/site-packages/ipykernel/__main__.py:21: Warning: Incorrect datetime value: '' for column 'launchpad_opening_date' at row 2745\n",
      "/home/seneca/V-ENV/ipython-S/lib/python2.7/site-packages/ipykernel/__main__.py:21: Warning: Incorrect datetime value: '' for column 'launchpad_opening_date' at row 2746\n",
      "/home/seneca/V-ENV/ipython-S/lib/python2.7/site-packages/ipykernel/__main__.py:21: Warning: Incorrect datetime value: '' for column 'launchpad_opening_date' at row 2747\n",
      "/home/seneca/V-ENV/ipython-S/lib/python2.7/site-packages/ipykernel/__main__.py:21: Warning: Incorrect datetime value: '' for column 'launchpad_opening_date' at row 2753\n",
      "/home/seneca/V-ENV/ipython-S/lib/python2.7/site-packages/ipykernel/__main__.py:21: Warning: Incorrect datetime value: '' for column 'launchpad_opening_date' at row 2754\n",
      "/home/seneca/V-ENV/ipython-S/lib/python2.7/site-packages/ipykernel/__main__.py:21: Warning: Incorrect datetime value: '' for column 'launchpad_opening_date' at row 2755\n",
      "/home/seneca/V-ENV/ipython-S/lib/python2.7/site-packages/ipykernel/__main__.py:21: Warning: Incorrect datetime value: '' for column 'launchpad_opening_date' at row 2756\n",
      "/home/seneca/V-ENV/ipython-S/lib/python2.7/site-packages/ipykernel/__main__.py:21: Warning: Incorrect datetime value: '' for column 'launchpad_opening_date' at row 2757\n",
      "/home/seneca/V-ENV/ipython-S/lib/python2.7/site-packages/ipykernel/__main__.py:21: Warning: Incorrect datetime value: '' for column 'launchpad_opening_date' at row 2758\n",
      "/home/seneca/V-ENV/ipython-S/lib/python2.7/site-packages/ipykernel/__main__.py:21: Warning: Incorrect datetime value: '' for column 'launchpad_opening_date' at row 8795\n",
      "/home/seneca/V-ENV/ipython-S/lib/python2.7/site-packages/ipykernel/__main__.py:21: Warning: Incorrect datetime value: '' for column 'launchpad_opening_date' at row 8912\n",
      "/home/seneca/V-ENV/ipython-S/lib/python2.7/site-packages/ipykernel/__main__.py:21: Warning: Incorrect datetime value: '' for column 'launchpad_opening_date' at row 8993\n",
      "/home/seneca/V-ENV/ipython-S/lib/python2.7/site-packages/ipykernel/__main__.py:21: Warning: Incorrect datetime value: '' for column 'launchpad_opening_date' at row 9357\n",
      "/home/seneca/V-ENV/ipython-S/lib/python2.7/site-packages/ipykernel/__main__.py:21: Warning: Incorrect datetime value: '' for column 'launchpad_opening_date' at row 9358\n",
      "/home/seneca/V-ENV/ipython-S/lib/python2.7/site-packages/ipykernel/__main__.py:21: Warning: Incorrect datetime value: '' for column 'launchpad_opening_date' at row 9359\n",
      "/home/seneca/V-ENV/ipython-S/lib/python2.7/site-packages/ipykernel/__main__.py:21: Warning: Incorrect datetime value: '' for column 'launchpad_opening_date' at row 9719\n",
      "/home/seneca/V-ENV/ipython-S/lib/python2.7/site-packages/ipykernel/__main__.py:21: Warning: Incorrect datetime value: '' for column 'launchpad_opening_date' at row 9794\n",
      "/home/seneca/V-ENV/ipython-S/lib/python2.7/site-packages/ipykernel/__main__.py:21: Warning: Incorrect datetime value: '' for column 'launchpad_opening_date' at row 9968\n",
      "/home/seneca/V-ENV/ipython-S/lib/python2.7/site-packages/ipykernel/__main__.py:21: Warning: Incorrect datetime value: '' for column 'launchpad_opening_date' at row 10106\n",
      "/home/seneca/V-ENV/ipython-S/lib/python2.7/site-packages/ipykernel/__main__.py:21: Warning: Incorrect datetime value: '' for column 'launchpad_opening_date' at row 10109\n",
      "/home/seneca/V-ENV/ipython-S/lib/python2.7/site-packages/ipykernel/__main__.py:21: Warning: Incorrect datetime value: '' for column 'launchpad_opening_date' at row 10114\n",
      "/home/seneca/V-ENV/ipython-S/lib/python2.7/site-packages/ipykernel/__main__.py:21: Warning: Incorrect datetime value: '' for column 'launchpad_opening_date' at row 10289\n",
      "/home/seneca/V-ENV/ipython-S/lib/python2.7/site-packages/ipykernel/__main__.py:21: Warning: Incorrect datetime value: '' for column 'launchpad_opening_date' at row 10293\n",
      "/home/seneca/V-ENV/ipython-S/lib/python2.7/site-packages/ipykernel/__main__.py:21: Warning: Incorrect datetime value: '' for column 'launchpad_opening_date' at row 10316\n",
      "/home/seneca/V-ENV/ipython-S/lib/python2.7/site-packages/ipykernel/__main__.py:21: Warning: Incorrect datetime value: '' for column 'launchpad_opening_date' at row 10324\n",
      "/home/seneca/V-ENV/ipython-S/lib/python2.7/site-packages/ipykernel/__main__.py:21: Warning: Incorrect datetime value: '' for column 'launchpad_opening_date' at row 10372\n",
      "/home/seneca/V-ENV/ipython-S/lib/python2.7/site-packages/ipykernel/__main__.py:21: Warning: Incorrect datetime value: '' for column 'launchpad_opening_date' at row 10439\n",
      "/home/seneca/V-ENV/ipython-S/lib/python2.7/site-packages/ipykernel/__main__.py:21: Warning: Incorrect datetime value: '' for column 'launchpad_opening_date' at row 10577\n",
      "/home/seneca/V-ENV/ipython-S/lib/python2.7/site-packages/ipykernel/__main__.py:21: Warning: Incorrect datetime value: '' for column 'launchpad_opening_date' at row 10582\n",
      "/home/seneca/V-ENV/ipython-S/lib/python2.7/site-packages/ipykernel/__main__.py:21: Warning: Incorrect datetime value: '' for column 'launchpad_opening_date' at row 10589\n",
      "/home/seneca/V-ENV/ipython-S/lib/python2.7/site-packages/ipykernel/__main__.py:21: Warning: Incorrect datetime value: '' for column 'launchpad_opening_date' at row 10598\n",
      "/home/seneca/V-ENV/ipython-S/lib/python2.7/site-packages/ipykernel/__main__.py:21: Warning: Incorrect datetime value: '' for column 'launchpad_opening_date' at row 10599\n",
      "/home/seneca/V-ENV/ipython-S/lib/python2.7/site-packages/ipykernel/__main__.py:21: Warning: Incorrect datetime value: '' for column 'launchpad_opening_date' at row 10625\n",
      "/home/seneca/V-ENV/ipython-S/lib/python2.7/site-packages/ipykernel/__main__.py:21: Warning: Incorrect datetime value: '' for column 'launchpad_opening_date' at row 10626\n",
      "/home/seneca/V-ENV/ipython-S/lib/python2.7/site-packages/ipykernel/__main__.py:21: Warning: Incorrect datetime value: '' for column 'launchpad_opening_date' at row 10631\n",
      "/home/seneca/V-ENV/ipython-S/lib/python2.7/site-packages/ipykernel/__main__.py:21: Warning: Incorrect datetime value: '' for column 'launchpad_opening_date' at row 10632\n",
      "/home/seneca/V-ENV/ipython-S/lib/python2.7/site-packages/ipykernel/__main__.py:21: Warning: Incorrect datetime value: '' for column 'launchpad_opening_date' at row 10639\n",
      "/home/seneca/V-ENV/ipython-S/lib/python2.7/site-packages/ipykernel/__main__.py:21: Warning: Incorrect datetime value: '' for column 'launchpad_opening_date' at row 10640\n",
      "/home/seneca/V-ENV/ipython-S/lib/python2.7/site-packages/ipykernel/__main__.py:21: Warning: Incorrect datetime value: '' for column 'launchpad_opening_date' at row 10660\n",
      "/home/seneca/V-ENV/ipython-S/lib/python2.7/site-packages/ipykernel/__main__.py:21: Warning: Incorrect datetime value: '' for column 'launchpad_opening_date' at row 10666\n",
      "/home/seneca/V-ENV/ipython-S/lib/python2.7/site-packages/ipykernel/__main__.py:21: Warning: Incorrect datetime value: '' for column 'launchpad_opening_date' at row 10667\n",
      "/home/seneca/V-ENV/ipython-S/lib/python2.7/site-packages/ipykernel/__main__.py:21: Warning: Incorrect datetime value: '' for column 'launchpad_opening_date' at row 10678\n"
     ]
    }
   ],
   "source": [
    "data1 = execute_query(cursor, query1)"
   ]
  },
  {
   "cell_type": "code",
   "execution_count": 27,
   "metadata": {
    "collapsed": true
   },
   "outputs": [],
   "source": [
    "data_list1 = list(data1)"
   ]
  },
  {
   "cell_type": "code",
   "execution_count": 28,
   "metadata": {
    "collapsed": false
   },
   "outputs": [
    {
     "data": {
      "text/plain": [
       "['launchpad_issue',\n",
       " 'gerrit_id',\n",
       " 'launchpad_opening_date',\n",
       " 'gerrit_closing_date',\n",
       " 'time2close',\n",
       " 'current_status',\n",
       " 'gerrit_tracker']"
      ]
     },
     "execution_count": 28,
     "metadata": {},
     "output_type": "execute_result"
    }
   ],
   "source": [
    "time_to_close_1 = pandas.DataFrame(data_list1, columns=[\"launchpad_issue\", \"gerrit_id\", \"launchpad_opening_date\", \"gerrit_closing_date\", \"time2close\", \"current_status\", \"gerrit_tracker\"])\n",
    "time_to_close_1.columns.values.tolist()"
   ]
  },
  {
   "cell_type": "code",
   "execution_count": 29,
   "metadata": {
    "collapsed": false
   },
   "outputs": [],
   "source": [
    "# order dataframe by launchpad_issue\n",
    "time2close_1 = time_to_close_1.sort_values(['launchpad_issue'])"
   ]
  },
  {
   "cell_type": "code",
   "execution_count": 30,
   "metadata": {
    "collapsed": false
   },
   "outputs": [],
   "source": [
    "# group by ticket\n",
    "by_lp_issue = time2close_1.groupby(['launchpad_issue'])"
   ]
  },
  {
   "cell_type": "code",
   "execution_count": 31,
   "metadata": {
    "collapsed": false
   },
   "outputs": [],
   "source": [
    "groupby = by_lp_issue.mean()"
   ]
  },
  {
   "cell_type": "code",
   "execution_count": 32,
   "metadata": {
    "collapsed": false
   },
   "outputs": [
    {
     "name": "stdout",
     "output_type": "stream",
     "text": [
      "Average time for closing a ticket: 36.825899 days\n",
      "Median time for closing a ticket: 8.020388 days\n",
      "Quantiles: \n",
      "      time2close\n",
      "0.25    157979.5\n",
      "0.50    692961.5\n",
      "0.75   2763054.0\n"
     ]
    }
   ],
   "source": [
    "print \"Average time for closing a ticket: %f days\" % ((groupby.mean()/3600.0)/24)\n",
    "print \"Median time for closing a ticket: %f days\" % ((groupby.median()/3600.0)/24)\n",
    "print \"Quantiles: \"\n",
    "print groupby.quantile([0.25, 0.5, 0.75])"
   ]
  },
  {
   "cell_type": "code",
   "execution_count": 33,
   "metadata": {
    "collapsed": false
   },
   "outputs": [
    {
     "data": {
      "text/plain": [
       "<matplotlib.text.Text at 0x7f1013325c50>"
      ]
     },
     "execution_count": 33,
     "metadata": {},
     "output_type": "execute_result"
    },
    {
     "data": {
      "image/png": "[encoded data removed]",
      "text/plain": [
       "<matplotlib.figure.Figure at 0x7f1012e676d0>"
      ]
     },
     "metadata": {},
     "output_type": "display_data"
    }
   ],
   "source": [
    "# Histogram of the mean time for closing a ticket\n",
    "fig, axs = plt.subplots(1,2, figsize=(15,6))\n",
    "\n",
    "hist_chart1= groupby[\"time2close\"].plot(kind=\"hist\", ax=axs[0])\n",
    "boxplot_chart1 = groupby[\"time2close\"].plot(kind=\"box\", ax=axs[1], logy=True)\n",
    "\n",
    "#chart labels\n",
    "hist_chart1.set_xlabel(\"Days to close\")\n",
    "hist_chart1.set_ylabel(\"Number of Tickets\")\n",
    "hist_chart1.set_title(\"Histogram: days to close\")\n",
    "\n",
    "boxplot_chart1.set_ylabel(\"Days to close\")\n",
    "boxplot_chart1.set_title(\"Log scale: Dist. time2close_days\")"
   ]
  },
  {
   "cell_type": "markdown",
   "metadata": {},
   "source": [
    "### *** Measuring the behaviour of the time to close a ticket during the years ***"
   ]
  },
  {
   "cell_type": "markdown",
   "metadata": {},
   "source": [
    "# MEASURING TIME - METRIC 2\n",
    "\n",
    "The next calculates the time to closing a ticket. The scenario is illustrated below:\n",
    "\n",
    "                    |___________________GERRIT________________________| ...\n",
    "           |-------------|--------------|--------|----------- ... ----| ...\n",
    "         ticket         1st            2nd      3rd                  n-th \n",
    "         in lp         merge          merge    merge                 merge\n",
    "           |__________________________________________________________| --> this is what we analyze in the next steps "
   ]
  },
  {
   "cell_type": "code",
   "execution_count": 34,
   "metadata": {
    "collapsed": true
   },
   "outputs": [],
   "source": [
    "query2 = \"\"\" select launchpad_issue,\n",
    "                    gerrit_id,\n",
    "                    launchpad_opening_date,\n",
    "                    MAX(gerrit_closing_date),\n",
    "                    timestampdiff(SECOND, launchpad_opening_date, MAX(gerrit_closing_date)) as time2close,\n",
    "                    current_status\n",
    "                    from lp_cr_aggregation\n",
    "                    where current_status='MERGED'\n",
    "                    group by launchpad_opening_date\n",
    "                    order by gerrit_closing_date \"\"\""
   ]
  },
  {
   "cell_type": "code",
   "execution_count": 35,
   "metadata": {
    "collapsed": false
   },
   "outputs": [],
   "source": [
    "data2 = execute_query(cursor, query2)"
   ]
  },
  {
   "cell_type": "code",
   "execution_count": 36,
   "metadata": {
    "collapsed": true
   },
   "outputs": [],
   "source": [
    "data_list2 = list(data2)"
   ]
  },
  {
   "cell_type": "code",
   "execution_count": 37,
   "metadata": {
    "collapsed": false
   },
   "outputs": [
    {
     "data": {
      "text/plain": [
       "['launchpad_issue',\n",
       " 'gerrit_id',\n",
       " 'launchpad_opening_date',\n",
       " 'gerrit_closing_date',\n",
       " 'time2close',\n",
       " 'current_status']"
      ]
     },
     "execution_count": 37,
     "metadata": {},
     "output_type": "execute_result"
    }
   ],
   "source": [
    "time_to_close_2 = pandas.DataFrame(data_list2, columns=[\"launchpad_issue\", \"gerrit_id\", \"launchpad_opening_date\", \"gerrit_closing_date\", \"time2close\", \"current_status\"])\n",
    "time_to_close_2.columns.values.tolist()"
   ]
  },
  {
   "cell_type": "code",
   "execution_count": 38,
   "metadata": {
    "collapsed": true
   },
   "outputs": [],
   "source": [
    "# Migrate seconds to days - add another column to the data frame\n",
    "time_to_close_2[\"time2close_days\"] = (time_to_close_2[\"time2close\"]/3600)/24"
   ]
  },
  {
   "cell_type": "code",
   "execution_count": 39,
   "metadata": {
    "collapsed": true
   },
   "outputs": [],
   "source": [
    "# Time to close a ticket - eleminating Abandoned phases during code review\n",
    "time_to_close_H2 = time_to_close_2[time_to_close_2[\"time2close\"] >= 0];"
   ]
  },
  {
   "cell_type": "code",
   "execution_count": 41,
   "metadata": {
    "collapsed": false
   },
   "outputs": [],
   "source": [
    "# time_to_close_H2"
   ]
  },
  {
   "cell_type": "code",
   "execution_count": 42,
   "metadata": {
    "collapsed": false
   },
   "outputs": [
    {
     "data": {
      "text/plain": [
       "<matplotlib.text.Text at 0x7f10133c2cd0>"
      ]
     },
     "execution_count": 42,
     "metadata": {},
     "output_type": "execute_result"
    },
    {
     "data": {
      "image/png": "[encoded data removed]",
      "text/plain": [
       "<matplotlib.figure.Figure at 0x7f1012f0ba90>"
      ]
     },
     "metadata": {},
     "output_type": "display_data"
    }
   ],
   "source": [
    "# Histogram of time to close a ticket\n",
    "fig, axs = plt.subplots(1,2, figsize=(15,5))\n",
    "\n",
    "hist_chart2 = time_to_close_H2[\"time2close_days\"].plot(kind=\"hist\", ax=axs[0])\n",
    "boxplot_chart2 = time_to_close_H2[\"time2close_days\"].plot(kind=\"box\", ax=axs[1], logy=True)\n",
    "\n",
    "#chart labels\n",
    "hist_chart2.set_xlabel(\"Days to close\")\n",
    "hist_chart2.set_ylabel(\"Number of Tickets\")\n",
    "hist_chart2.set_title(\"Histogram: days to close\")\n",
    "\n",
    "boxplot_chart2.set_ylabel(\"Days to close\")\n",
    "boxplot_chart2.set_title(\"Log scale: Dist. time2close_days\")"
   ]
  },
  {
   "cell_type": "code",
   "execution_count": 43,
   "metadata": {
    "collapsed": true
   },
   "outputs": [],
   "source": [
    "time_to_close_H3 = time_to_close_H2[\"time2close_days\"]"
   ]
  },
  {
   "cell_type": "code",
   "execution_count": 44,
   "metadata": {
    "collapsed": false
   },
   "outputs": [
    {
     "name": "stdout",
     "output_type": "stream",
     "text": [
      "Average time for closing a ticket: 38.588081 days\n",
      "Median time for closing a ticket: 8.064392 days\n",
      "Quantiles: \n",
      "0.25     1.826892\n",
      "0.50     8.064392\n",
      "0.75    32.959175\n",
      "Name: time2close_days, dtype: float64\n"
     ]
    }
   ],
   "source": [
    "print \"Average time for closing a ticket: %f days\" % time_to_close_H3.mean()\n",
    "print \"Median time for closing a ticket: %f days\" % time_to_close_H3.median()\n",
    "print \"Quantiles: \"\n",
    "print time_to_close_H3.quantile([0.25, 0.5, 0.75])"
   ]
  },
  {
   "cell_type": "code",
   "execution_count": null,
   "metadata": {
    "collapsed": true
   },
   "outputs": [],
   "source": []
  }
 ],
 "metadata": {
  "kernelspec": {
   "display_name": "Python 2",
   "language": "python",
   "name": "python2"
  },
  "language_info": {
   "codemirror_mode": {
    "name": "ipython",
    "version": 2
   },
   "file_extension": ".py",
   "mimetype": "text/x-python",
   "name": "python",
   "nbconvert_exporter": "python",
   "pygments_lexer": "ipython2",
   "version": "2.7.10"
  }
 },
 "nbformat": 4,
 "nbformat_minor": 0
}
